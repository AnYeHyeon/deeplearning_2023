{
 "cells": [
  {
   "cell_type": "code",
   "execution_count": 1,
   "id": "75386e14-9653-4127-80f3-c68f36fbeb45",
   "metadata": {},
   "outputs": [
    {
     "name": "stdout",
     "output_type": "stream",
     "text": [
      "Wed Oct 11 11:09:24 2023       \n",
      "+-----------------------------------------------------------------------------+\n",
      "| NVIDIA-SMI 460.27.04    Driver Version: 460.27.04    CUDA Version: 11.2     |\n",
      "|-------------------------------+----------------------+----------------------+\n",
      "| GPU  Name        Persistence-M| Bus-Id        Disp.A | Volatile Uncorr. ECC |\n",
      "| Fan  Temp  Perf  Pwr:Usage/Cap|         Memory-Usage | GPU-Util  Compute M. |\n",
      "|                               |                      |               MIG M. |\n",
      "|===============================+======================+======================|\n",
      "|   0  GeForce RTX 208...  Off  | 00000000:3B:00.0 Off |                  N/A |\n",
      "| 30%   35C    P8     4W / 250W |   5888MiB / 11019MiB |      0%      Default |\n",
      "|                               |                      |                  N/A |\n",
      "+-------------------------------+----------------------+----------------------+\n",
      "|   1  GeForce RTX 208...  Off  | 00000000:5E:00.0 Off |                  N/A |\n",
      "| 30%   32C    P8     1W / 250W |   2679MiB / 11019MiB |      0%      Default |\n",
      "|                               |                      |                  N/A |\n",
      "+-------------------------------+----------------------+----------------------+\n",
      "|   2  GeForce RTX 208...  Off  | 00000000:AF:00.0 Off |                  N/A |\n",
      "| 30%   34C    P8    23W / 250W |   1280MiB / 11019MiB |      0%      Default |\n",
      "|                               |                      |                  N/A |\n",
      "+-------------------------------+----------------------+----------------------+\n",
      "|   3  GeForce RTX 208...  Off  | 00000000:D8:00.0 Off |                  N/A |\n",
      "| 31%   41C    P5    17W / 250W |   1280MiB / 11019MiB |      0%      Default |\n",
      "|                               |                      |                  N/A |\n",
      "+-------------------------------+----------------------+----------------------+\n",
      "                                                                               \n",
      "+-----------------------------------------------------------------------------+\n",
      "| Processes:                                                                  |\n",
      "|  GPU   GI   CI        PID   Type   Process name                  GPU Memory |\n",
      "|        ID   ID                                                   Usage      |\n",
      "|=============================================================================|\n",
      "|    0   N/A  N/A     46727      C   /opt/conda/bin/python3.8         2877MiB |\n",
      "|    1   N/A  N/A     46727      C   /opt/conda/bin/python3.8          315MiB |\n",
      "|    2   N/A  N/A     46727      C   /opt/conda/bin/python3.8          315MiB |\n",
      "|    3   N/A  N/A     46727      C   /opt/conda/bin/python3.8          315MiB |\n",
      "+-----------------------------------------------------------------------------+\n"
     ]
    }
   ],
   "source": [
    "!nvidia-smi"
   ]
  },
  {
   "cell_type": "code",
   "execution_count": 2,
   "id": "777bf59c-7a9b-4377-bd1d-ba162ed38aaa",
   "metadata": {},
   "outputs": [],
   "source": [
    "import os\n",
    "os.environ[\"CUDA_VISIBLE_DEVICES\"] = \"3\""
   ]
  },
  {
   "cell_type": "markdown",
   "id": "d6a7af7f-991b-4561-8343-b330b2335723",
   "metadata": {},
   "source": [
    "## 데이터 불러오기"
   ]
  },
  {
   "cell_type": "code",
   "execution_count": 3,
   "id": "fc841dbb-785e-443a-b67b-1edabe07bd48",
   "metadata": {},
   "outputs": [],
   "source": [
    "from tensorflow.keras.datasets import cifar10\n",
    "from tensorflow.keras.utils import to_categorical\n",
    "\n",
    "(x_train,y_train),(x_test,y_test) = cifar10.load_data()\n",
    "x_train = x_train/255.0\n",
    "x_test = x_test/255.0\n",
    "y_train = to_categorical(y_train)\n",
    "y_test = to_categorical(y_test)"
   ]
  },
  {
   "cell_type": "markdown",
   "id": "f438beff-8d65-452f-be0f-a01fe82fdb9a",
   "metadata": {},
   "source": [
    "## 사전학습된 모델 불러오기"
   ]
  },
  {
   "cell_type": "code",
   "execution_count": 4,
   "id": "f7978bd1-f867-4e88-8d6f-eedbbacfb367",
   "metadata": {},
   "outputs": [
    {
     "name": "stderr",
     "output_type": "stream",
     "text": [
      "2023-10-11 11:09:30.501303: W tensorflow/core/common_runtime/gpu/gpu_bfc_allocator.cc:39] Overriding allow_growth setting because the TF_FORCE_GPU_ALLOW_GROWTH environment variable is set. Original config value was 0.\n"
     ]
    }
   ],
   "source": [
    "from tensorflow.keras.applications import MobileNetV2, EfficientNetB0\n",
    "pretrained_model = MobileNetV2(weights = 'imagenet', # 사전학습한 데이터\n",
    "                    include_top = False,\n",
    "                    input_shape = (96,96,3) # 사진 한장의 크기\n",
    "                    )"
   ]
  },
  {
   "cell_type": "code",
   "execution_count": 5,
   "id": "3313af99-1117-4be0-8ff5-03805e1c11e6",
   "metadata": {},
   "outputs": [],
   "source": [
    "for layer in pretrained_model.layers:\n",
    "    layer.trainable = True # 사전에 학습되어있는 Layer의 미세조정을 허용하겠다."
   ]
  },
  {
   "cell_type": "markdown",
   "id": "d61533f8-553c-4d92-acaa-7e6ee870f61a",
   "metadata": {},
   "source": [
    "## 모델에 추가"
   ]
  },
  {
   "cell_type": "code",
   "execution_count": 6,
   "id": "9328b179-d3ea-4e4a-9339-6b23bac502a1",
   "metadata": {},
   "outputs": [],
   "source": [
    "from tensorflow.keras.models import Sequential\n",
    "from tensorflow.keras.layers import GlobalAveragePooling2D, Dense, Dropout\n",
    "\n",
    "model = Sequential() # 빈그릇 만들기\n",
    "model.add(pretrained_model) # 사전학습된 모델추가\n",
    "model.add(GlobalAveragePooling2D()) # 미세조정 위한 마지막 단 추가\n",
    "model.add(Dense(160,activation='relu'))  # 미세조정 위한 마지막 단 추가\n",
    "model.add(Dropout(0.5))\n",
    "model.add(Dense(10,activation='softmax'))  # 미세조정 위한 마지막 단 추가"
   ]
  },
  {
   "cell_type": "code",
   "execution_count": 7,
   "id": "c905fc3b-8c8a-458f-ba65-dad6901ad13a",
   "metadata": {},
   "outputs": [
    {
     "name": "stdout",
     "output_type": "stream",
     "text": [
      "Model: \"sequential\"\n",
      "_________________________________________________________________\n",
      " Layer (type)                Output Shape              Param #   \n",
      "=================================================================\n",
      " mobilenetv2_1.00_96 (Functi  (None, 3, 3, 1280)       2257984   \n",
      " onal)                                                           \n",
      "                                                                 \n",
      " global_average_pooling2d (G  (None, 1280)             0         \n",
      " lobalAveragePooling2D)                                          \n",
      "                                                                 \n",
      " dense (Dense)               (None, 160)               204960    \n",
      "                                                                 \n",
      " dropout (Dropout)           (None, 160)               0         \n",
      "                                                                 \n",
      " dense_1 (Dense)             (None, 10)                1610      \n",
      "                                                                 \n",
      "=================================================================\n",
      "Total params: 2,464,554\n",
      "Trainable params: 2,430,442\n",
      "Non-trainable params: 34,112\n",
      "_________________________________________________________________\n"
     ]
    }
   ],
   "source": [
    "model.summary()"
   ]
  },
  {
   "cell_type": "markdown",
   "id": "ba3e9e13-0427-43ab-90fd-ecfa31c0e3e8",
   "metadata": {},
   "source": [
    "## 데이터 크기 변경"
   ]
  },
  {
   "cell_type": "code",
   "execution_count": 8,
   "id": "066aab3e-0c42-443b-832f-1671e269453f",
   "metadata": {},
   "outputs": [],
   "source": [
    "import tensorflow as tf\n",
    "x_train = tf.image.resize(x_train,[96,96])\n",
    "x_test = tf.image.resize(x_test,[96,96])"
   ]
  },
  {
   "cell_type": "markdown",
   "id": "072e6eb0-3711-42b5-9aea-3575f302736c",
   "metadata": {},
   "source": [
    "## 학습"
   ]
  },
  {
   "cell_type": "code",
   "execution_count": 9,
   "id": "bddeed74-f0fb-4861-812c-6a32f1f749be",
   "metadata": {},
   "outputs": [],
   "source": [
    "model.compile(optimizer='adam',\n",
    "              loss='categorical_crossentropy',\n",
    "              metrics=['accuracy'])"
   ]
  },
  {
   "cell_type": "code",
   "execution_count": 10,
   "id": "3372eb63-6a09-43f8-b425-c2fa65049ccf",
   "metadata": {},
   "outputs": [
    {
     "name": "stdout",
     "output_type": "stream",
     "text": [
      "Epoch 1/10\n"
     ]
    },
    {
     "name": "stderr",
     "output_type": "stream",
     "text": [
      "2023-10-11 11:09:45.738719: W tensorflow/core/common_runtime/bfc_allocator.cc:275] Allocator (GPU_0_bfc) ran out of memory trying to allocate 1.07GiB with freed_by_count=0. The caller indicates that this is not a failure, but may mean that there could be performance gains if more memory were available.\n",
      "2023-10-11 11:09:45.738800: W tensorflow/core/common_runtime/bfc_allocator.cc:275] Allocator (GPU_0_bfc) ran out of memory trying to allocate 1.07GiB with freed_by_count=0. The caller indicates that this is not a failure, but may mean that there could be performance gains if more memory were available.\n"
     ]
    },
    {
     "name": "stdout",
     "output_type": "stream",
     "text": [
      "782/782 [==============================] - 69s 79ms/step - loss: 0.6282 - accuracy: 0.8060 - val_loss: 6.9153 - val_accuracy: 0.2233\n",
      "Epoch 2/10\n",
      "782/782 [==============================] - 60s 76ms/step - loss: 0.3983 - accuracy: 0.8745 - val_loss: 3.1308 - val_accuracy: 0.4302\n",
      "Epoch 3/10\n",
      "782/782 [==============================] - 60s 77ms/step - loss: 0.3288 - accuracy: 0.8973 - val_loss: 1.3507 - val_accuracy: 0.6702\n",
      "Epoch 4/10\n",
      "782/782 [==============================] - 59s 75ms/step - loss: 0.2859 - accuracy: 0.9082 - val_loss: 1.7915 - val_accuracy: 0.5880\n",
      "Epoch 5/10\n",
      "782/782 [==============================] - 59s 75ms/step - loss: 0.2575 - accuracy: 0.9196 - val_loss: 3.3479 - val_accuracy: 0.5056\n",
      "Epoch 6/10\n",
      "782/782 [==============================] - 59s 76ms/step - loss: 0.2221 - accuracy: 0.9275 - val_loss: 2.4904 - val_accuracy: 0.6040\n",
      "Epoch 7/10\n",
      "782/782 [==============================] - 59s 75ms/step - loss: 0.1965 - accuracy: 0.9373 - val_loss: 1.3193 - val_accuracy: 0.7203\n",
      "Epoch 8/10\n",
      "782/782 [==============================] - 59s 75ms/step - loss: 0.1864 - accuracy: 0.9405 - val_loss: 1.7745 - val_accuracy: 0.6558\n",
      "Epoch 9/10\n",
      "782/782 [==============================] - 59s 75ms/step - loss: 0.1634 - accuracy: 0.9485 - val_loss: 1.2996 - val_accuracy: 0.7634\n",
      "Epoch 10/10\n",
      "782/782 [==============================] - 57s 73ms/step - loss: 0.1498 - accuracy: 0.9505 - val_loss: 1.4530 - val_accuracy: 0.7195\n"
     ]
    }
   ],
   "source": [
    "history= model.fit(x_train,y_train,\n",
    "                   batch_size=64,\n",
    "                   epochs=10,\n",
    "                   validation_data=(x_test,y_test))"
   ]
  }
 ],
 "metadata": {
  "kernelspec": {
   "display_name": "Python 3 (ipykernel)",
   "language": "python",
   "name": "python3"
  },
  "language_info": {
   "codemirror_mode": {
    "name": "ipython",
    "version": 3
   },
   "file_extension": ".py",
   "mimetype": "text/x-python",
   "name": "python",
   "nbconvert_exporter": "python",
   "pygments_lexer": "ipython3",
   "version": "3.8.10"
  }
 },
 "nbformat": 4,
 "nbformat_minor": 5
}
