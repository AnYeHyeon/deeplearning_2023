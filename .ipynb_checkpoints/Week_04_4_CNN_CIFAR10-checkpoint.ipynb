{
  "nbformat": 4,
  "nbformat_minor": 0,
  "metadata": {
    "colab": {
      "provenance": [],
      "gpuType": "T4"
    },
    "kernelspec": {
      "name": "python3",
      "display_name": "Python 3"
    },
    "language_info": {
      "name": "python"
    },
    "accelerator": "GPU"
  },
  "cells": [
    {
      "cell_type": "code",
      "execution_count": null,
      "metadata": {
        "id": "pQZdiz0OStrE"
      },
      "outputs": [],
      "source": [
        "from tensorflow.keras.datasets import cifar10\n",
        "(x_train,y_train),(x_test,y_test) = cifar10.load_data()"
      ]
    },
    {
      "cell_type": "code",
      "source": [
        "from tensorflow.keras.utils import to_categorical\n",
        "x_train = x_train/255.0 # 0~1사이 스케일링\n",
        "x_test = x_test/255.0 # 0~1사이 스케일링\n",
        "y_train = to_categorical(y_train) # 원핫인코딩\n",
        "y_test = to_categorical(y_test) # 원핫인코딩"
      ],
      "metadata": {
        "id": "DgFIKsTdTK8k"
      },
      "execution_count": null,
      "outputs": []
    },
    {
      "cell_type": "code",
      "source": [
        "x_train.shape, x_test.shape, y_train.shape, y_test.shape"
      ],
      "metadata": {
        "colab": {
          "base_uri": "https://localhost:8080/"
        },
        "id": "xa9h_bt3TiI4",
        "outputId": "3f2d11a4-8254-457c-a01e-3b915d69bc93"
      },
      "execution_count": null,
      "outputs": [
        {
          "output_type": "execute_result",
          "data": {
            "text/plain": [
              "((50000, 32, 32, 3), (10000, 32, 32, 3), (50000, 10), (10000, 10))"
            ]
          },
          "metadata": {},
          "execution_count": 3
        }
      ]
    },
    {
      "cell_type": "code",
      "source": [
        "from sklearn.model_selection import train_test_split\n",
        "x_train, x_valid, y_train, y_valid= train_test_split(x_train,y_train,\n",
        "                                                     test_size=0.2,\n",
        "                                                     shuffle=True)"
      ],
      "metadata": {
        "id": "W-FN-2RPWfy_"
      },
      "execution_count": null,
      "outputs": []
    },
    {
      "cell_type": "code",
      "source": [
        "from tensorflow.keras.models import Sequential\n",
        "from tensorflow.keras.layers import Conv2D, MaxPooling2D, Flatten, Dense, Dropout"
      ],
      "metadata": {
        "id": "Qtbo4GarWgso"
      },
      "execution_count": null,
      "outputs": []
    },
    {
      "cell_type": "code",
      "source": [
        "model = Sequential()\n",
        "model.add(Conv2D(filters=32, kernel_size=(3,3),activation='relu',input_shape=(32,32,3)))\n",
        "model.add(MaxPooling2D(pool_size=(2,2)))\n",
        "model.add(Conv2D(filters=64, kernel_size=(3,3),activation='relu'))\n",
        "model.add(MaxPooling2D(pool_size=(2,2)))\n",
        "model.add(Flatten())\n",
        "model.add(Dense(128,activation='relu'))\n",
        "model.add(Dropout(0.5)) # 모델 규\n",
        "model.add(Dense(10, activation='softmax'))"
      ],
      "metadata": {
        "id": "a4nvr1bxXPKW"
      },
      "execution_count": null,
      "outputs": []
    },
    {
      "cell_type": "code",
      "source": [
        "model.summary()"
      ],
      "metadata": {
        "colab": {
          "base_uri": "https://localhost:8080/"
        },
        "id": "oedaDDatXU4x",
        "outputId": "2cfa1cd3-58d0-4e43-d497-c3ba4761e464"
      },
      "execution_count": null,
      "outputs": [
        {
          "output_type": "stream",
          "name": "stdout",
          "text": [
            "Model: \"sequential\"\n",
            "_________________________________________________________________\n",
            " Layer (type)                Output Shape              Param #   \n",
            "=================================================================\n",
            " conv2d (Conv2D)             (None, 30, 30, 32)        896       \n",
            "                                                                 \n",
            " max_pooling2d (MaxPooling2  (None, 15, 15, 32)        0         \n",
            " D)                                                              \n",
            "                                                                 \n",
            " conv2d_1 (Conv2D)           (None, 13, 13, 64)        18496     \n",
            "                                                                 \n",
            " max_pooling2d_1 (MaxPoolin  (None, 6, 6, 64)          0         \n",
            " g2D)                                                            \n",
            "                                                                 \n",
            " flatten (Flatten)           (None, 2304)              0         \n",
            "                                                                 \n",
            " dense (Dense)               (None, 128)               295040    \n",
            "                                                                 \n",
            " dropout (Dropout)           (None, 128)               0         \n",
            "                                                                 \n",
            " dense_1 (Dense)             (None, 10)                1290      \n",
            "                                                                 \n",
            "=================================================================\n",
            "Total params: 315722 (1.20 MB)\n",
            "Trainable params: 315722 (1.20 MB)\n",
            "Non-trainable params: 0 (0.00 Byte)\n",
            "_________________________________________________________________\n"
          ]
        }
      ]
    },
    {
      "cell_type": "code",
      "source": [
        "model.compile(optimizer = 'adam', loss='categorical_crossentropy', metrics=['accuracy'])"
      ],
      "metadata": {
        "id": "7XXtwouFXYNN"
      },
      "execution_count": null,
      "outputs": []
    },
    {
      "cell_type": "code",
      "source": [
        "history = model.fit(x_train, y_train,\n",
        "                    epochs=20,\n",
        "                    batch_size=32,\n",
        "                    validation_data=(x_valid,y_valid))"
      ],
      "metadata": {
        "colab": {
          "base_uri": "https://localhost:8080/"
        },
        "id": "F4zah7bcXZ2h",
        "outputId": "1f8ac5df-dc1f-4a0b-e45c-d6649baadc12"
      },
      "execution_count": null,
      "outputs": [
        {
          "output_type": "stream",
          "name": "stdout",
          "text": [
            "Epoch 1/20\n",
            "1250/1250 [==============================] - 13s 7ms/step - loss: 1.6802 - accuracy: 0.3817 - val_loss: 1.4019 - val_accuracy: 0.4978\n",
            "Epoch 2/20\n",
            "1250/1250 [==============================] - 7s 5ms/step - loss: 1.3747 - accuracy: 0.5080 - val_loss: 1.1727 - val_accuracy: 0.5832\n",
            "Epoch 3/20\n",
            "1250/1250 [==============================] - 6s 5ms/step - loss: 1.2388 - accuracy: 0.5591 - val_loss: 1.0876 - val_accuracy: 0.6224\n",
            "Epoch 4/20\n",
            "1250/1250 [==============================] - 7s 6ms/step - loss: 1.1485 - accuracy: 0.5938 - val_loss: 1.0420 - val_accuracy: 0.6310\n",
            "Epoch 5/20\n",
            "1250/1250 [==============================] - 7s 5ms/step - loss: 1.0893 - accuracy: 0.6193 - val_loss: 1.0739 - val_accuracy: 0.6149\n",
            "Epoch 6/20\n",
            "1250/1250 [==============================] - 7s 6ms/step - loss: 1.0326 - accuracy: 0.6346 - val_loss: 0.9600 - val_accuracy: 0.6679\n",
            "Epoch 7/20\n",
            "1250/1250 [==============================] - 6s 5ms/step - loss: 0.9933 - accuracy: 0.6499 - val_loss: 0.9453 - val_accuracy: 0.6712\n",
            "Epoch 8/20\n",
            "1250/1250 [==============================] - 7s 5ms/step - loss: 0.9475 - accuracy: 0.6661 - val_loss: 0.9477 - val_accuracy: 0.6718\n",
            "Epoch 9/20\n",
            "1250/1250 [==============================] - 6s 5ms/step - loss: 0.9097 - accuracy: 0.6783 - val_loss: 0.9438 - val_accuracy: 0.6711\n",
            "Epoch 10/20\n",
            "1250/1250 [==============================] - 7s 6ms/step - loss: 0.8792 - accuracy: 0.6899 - val_loss: 0.9328 - val_accuracy: 0.6821\n",
            "Epoch 11/20\n",
            "1250/1250 [==============================] - 6s 5ms/step - loss: 0.8495 - accuracy: 0.7002 - val_loss: 0.9420 - val_accuracy: 0.6708\n",
            "Epoch 12/20\n",
            "1250/1250 [==============================] - 7s 5ms/step - loss: 0.8293 - accuracy: 0.7054 - val_loss: 0.9302 - val_accuracy: 0.6793\n",
            "Epoch 13/20\n",
            "1250/1250 [==============================] - 6s 5ms/step - loss: 0.7998 - accuracy: 0.7136 - val_loss: 0.9046 - val_accuracy: 0.6906\n",
            "Epoch 14/20\n",
            "1250/1250 [==============================] - 6s 5ms/step - loss: 0.7732 - accuracy: 0.7218 - val_loss: 0.9147 - val_accuracy: 0.6907\n",
            "Epoch 15/20\n",
            "1250/1250 [==============================] - 7s 5ms/step - loss: 0.7559 - accuracy: 0.7301 - val_loss: 0.9371 - val_accuracy: 0.6868\n",
            "Epoch 16/20\n",
            "1250/1250 [==============================] - 6s 5ms/step - loss: 0.7357 - accuracy: 0.7370 - val_loss: 0.9192 - val_accuracy: 0.6908\n",
            "Epoch 17/20\n",
            "1250/1250 [==============================] - 6s 5ms/step - loss: 0.7145 - accuracy: 0.7387 - val_loss: 0.9348 - val_accuracy: 0.6896\n",
            "Epoch 18/20\n",
            "1250/1250 [==============================] - 6s 5ms/step - loss: 0.6982 - accuracy: 0.7477 - val_loss: 0.9429 - val_accuracy: 0.6842\n",
            "Epoch 19/20\n",
            "1250/1250 [==============================] - 6s 5ms/step - loss: 0.6810 - accuracy: 0.7520 - val_loss: 0.9622 - val_accuracy: 0.6854\n",
            "Epoch 20/20\n",
            "1250/1250 [==============================] - 6s 5ms/step - loss: 0.6675 - accuracy: 0.7570 - val_loss: 0.9402 - val_accuracy: 0.6914\n"
          ]
        }
      ]
    }
  ]
}